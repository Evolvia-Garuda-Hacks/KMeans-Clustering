{
  "cells": [
    {
      "cell_type": "code",
      "execution_count": null,
      "id": "262a4ffd-2e1f-48f7-86d2-25616cd936a7",
      "metadata": {
        "id": "262a4ffd-2e1f-48f7-86d2-25616cd936a7"
      },
      "outputs": [],
      "source": [
        "pip install seaborn"
      ]
    },
    {
      "cell_type": "code",
      "execution_count": null,
      "id": "a8f71a9e-ff66-4b9c-8214-e10fc5f0cb2b",
      "metadata": {
        "id": "a8f71a9e-ff66-4b9c-8214-e10fc5f0cb2b"
      },
      "outputs": [],
      "source": [
        "import numpy as np\n",
        "import pandas as pd\n",
        "import matplotlib.pyplot as plt\n",
        "import seaborn as sns\n",
        "%matplotlib inline"
      ]
    },
    {
      "cell_type": "code",
      "execution_count": null,
      "id": "dfb067f0-7729-4695-af18-6c4e5903cac6",
      "metadata": {
        "id": "dfb067f0-7729-4695-af18-6c4e5903cac6",
        "outputId": "54431a83-0424-4469-c4f3-c993a0d63952"
      },
      "outputs": [
        {
          "data": {
            "text/html": [
              "<div>\n",
              "<style scoped>\n",
              "    .dataframe tbody tr th:only-of-type {\n",
              "        vertical-align: middle;\n",
              "    }\n",
              "\n",
              "    .dataframe tbody tr th {\n",
              "        vertical-align: top;\n",
              "    }\n",
              "\n",
              "    .dataframe thead th {\n",
              "        text-align: right;\n",
              "    }\n",
              "</style>\n",
              "<table border=\"1\" class=\"dataframe\">\n",
              "  <thead>\n",
              "    <tr style=\"text-align: right;\">\n",
              "      <th></th>\n",
              "      <th>Enough</th>\n",
              "      <th>Hours</th>\n",
              "      <th>PhoneReach</th>\n",
              "      <th>PhoneTime</th>\n",
              "      <th>Tired</th>\n",
              "      <th>Breakfast</th>\n",
              "    </tr>\n",
              "  </thead>\n",
              "  <tbody>\n",
              "    <tr>\n",
              "      <th>0</th>\n",
              "      <td>Yes</td>\n",
              "      <td>8.0</td>\n",
              "      <td>Yes</td>\n",
              "      <td>Yes</td>\n",
              "      <td>3</td>\n",
              "      <td>Yes</td>\n",
              "    </tr>\n",
              "    <tr>\n",
              "      <th>1</th>\n",
              "      <td>No</td>\n",
              "      <td>6.0</td>\n",
              "      <td>Yes</td>\n",
              "      <td>Yes</td>\n",
              "      <td>3</td>\n",
              "      <td>No</td>\n",
              "    </tr>\n",
              "    <tr>\n",
              "      <th>2</th>\n",
              "      <td>Yes</td>\n",
              "      <td>6.0</td>\n",
              "      <td>Yes</td>\n",
              "      <td>Yes</td>\n",
              "      <td>2</td>\n",
              "      <td>Yes</td>\n",
              "    </tr>\n",
              "    <tr>\n",
              "      <th>3</th>\n",
              "      <td>No</td>\n",
              "      <td>7.0</td>\n",
              "      <td>Yes</td>\n",
              "      <td>Yes</td>\n",
              "      <td>4</td>\n",
              "      <td>No</td>\n",
              "    </tr>\n",
              "    <tr>\n",
              "      <th>4</th>\n",
              "      <td>No</td>\n",
              "      <td>7.0</td>\n",
              "      <td>Yes</td>\n",
              "      <td>Yes</td>\n",
              "      <td>2</td>\n",
              "      <td>Yes</td>\n",
              "    </tr>\n",
              "    <tr>\n",
              "      <th>...</th>\n",
              "      <td>...</td>\n",
              "      <td>...</td>\n",
              "      <td>...</td>\n",
              "      <td>...</td>\n",
              "      <td>...</td>\n",
              "      <td>...</td>\n",
              "    </tr>\n",
              "    <tr>\n",
              "      <th>99</th>\n",
              "      <td>No</td>\n",
              "      <td>7.0</td>\n",
              "      <td>Yes</td>\n",
              "      <td>Yes</td>\n",
              "      <td>2</td>\n",
              "      <td>Yes</td>\n",
              "    </tr>\n",
              "    <tr>\n",
              "      <th>100</th>\n",
              "      <td>No</td>\n",
              "      <td>7.0</td>\n",
              "      <td>No</td>\n",
              "      <td>Yes</td>\n",
              "      <td>3</td>\n",
              "      <td>Yes</td>\n",
              "    </tr>\n",
              "    <tr>\n",
              "      <th>101</th>\n",
              "      <td>Yes</td>\n",
              "      <td>8.0</td>\n",
              "      <td>Yes</td>\n",
              "      <td>Yes</td>\n",
              "      <td>3</td>\n",
              "      <td>Yes</td>\n",
              "    </tr>\n",
              "    <tr>\n",
              "      <th>102</th>\n",
              "      <td>Yes</td>\n",
              "      <td>7.0</td>\n",
              "      <td>Yes</td>\n",
              "      <td>Yes</td>\n",
              "      <td>2</td>\n",
              "      <td>Yes</td>\n",
              "    </tr>\n",
              "    <tr>\n",
              "      <th>103</th>\n",
              "      <td>Yes</td>\n",
              "      <td>6.0</td>\n",
              "      <td>Yes</td>\n",
              "      <td>Yes</td>\n",
              "      <td>3</td>\n",
              "      <td>Yes</td>\n",
              "    </tr>\n",
              "  </tbody>\n",
              "</table>\n",
              "<p>104 rows × 6 columns</p>\n",
              "</div>"
            ],
            "text/plain": [
              "    Enough  Hours PhoneReach PhoneTime  Tired Breakfast\n",
              "0      Yes    8.0        Yes       Yes      3       Yes\n",
              "1       No    6.0        Yes       Yes      3        No\n",
              "2      Yes    6.0        Yes       Yes      2       Yes\n",
              "3       No    7.0        Yes       Yes      4        No\n",
              "4       No    7.0        Yes       Yes      2       Yes\n",
              "..     ...    ...        ...       ...    ...       ...\n",
              "99      No    7.0        Yes       Yes      2       Yes\n",
              "100     No    7.0         No       Yes      3       Yes\n",
              "101    Yes    8.0        Yes       Yes      3       Yes\n",
              "102    Yes    7.0        Yes       Yes      2       Yes\n",
              "103    Yes    6.0        Yes       Yes      3       Yes\n",
              "\n",
              "[104 rows x 6 columns]"
            ]
          },
          "execution_count": 3,
          "metadata": {},
          "output_type": "execute_result"
        }
      ],
      "source": [
        "df = pd.DataFrame(pd.read_csv(\"SleepStudyData.csv\"))\n",
        "df"
      ]
    },
    {
      "cell_type": "code",
      "execution_count": null,
      "id": "d102b299-4b58-44cc-8365-ae24085a2b12",
      "metadata": {
        "id": "d102b299-4b58-44cc-8365-ae24085a2b12",
        "outputId": "d1b14e9c-751c-4076-e4b7-1f933c9c588a"
      },
      "outputs": [
        {
          "name": "stdout",
          "output_type": "stream",
          "text": [
            "<class 'pandas.core.frame.DataFrame'>\n",
            "RangeIndex: 104 entries, 0 to 103\n",
            "Data columns (total 6 columns):\n",
            " #   Column      Non-Null Count  Dtype  \n",
            "---  ------      --------------  -----  \n",
            " 0   Enough      104 non-null    object \n",
            " 1   Hours       102 non-null    float64\n",
            " 2   PhoneReach  104 non-null    object \n",
            " 3   PhoneTime   104 non-null    object \n",
            " 4   Tired       104 non-null    int64  \n",
            " 5   Breakfast   104 non-null    object \n",
            "dtypes: float64(1), int64(1), object(4)\n",
            "memory usage: 5.0+ KB\n"
          ]
        }
      ],
      "source": [
        "df.info()"
      ]
    },
    {
      "cell_type": "code",
      "execution_count": null,
      "id": "07482584-b021-4914-bac7-be1eacc84873",
      "metadata": {
        "id": "07482584-b021-4914-bac7-be1eacc84873",
        "outputId": "37e4d636-2b9a-405e-9da5-04a9028d9f32"
      },
      "outputs": [
        {
          "data": {
            "text/plain": [
              "Enough        0\n",
              "Hours         2\n",
              "PhoneReach    0\n",
              "PhoneTime     0\n",
              "Tired         0\n",
              "Breakfast     0\n",
              "dtype: int64"
            ]
          },
          "execution_count": 5,
          "metadata": {},
          "output_type": "execute_result"
        }
      ],
      "source": [
        "df.isnull().sum()"
      ]
    },
    {
      "cell_type": "code",
      "execution_count": null,
      "id": "8adac566-d4cc-46ba-babe-a45b4dea4837",
      "metadata": {
        "id": "8adac566-d4cc-46ba-babe-a45b4dea4837"
      },
      "outputs": [],
      "source": [
        "mean_hours=df['Hours'].mean()\n",
        "\n",
        "df['Hours'].fillna(value=mean_hours, inplace=True)"
      ]
    },
    {
      "cell_type": "code",
      "execution_count": null,
      "id": "543dc155-b085-4b10-babb-0f1a58d07971",
      "metadata": {
        "id": "543dc155-b085-4b10-babb-0f1a58d07971",
        "outputId": "5c75da62-bdb7-415d-c7fb-aa95bd6650ac"
      },
      "outputs": [
        {
          "data": {
            "text/plain": [
              "Enough        0\n",
              "Hours         0\n",
              "PhoneReach    0\n",
              "PhoneTime     0\n",
              "Tired         0\n",
              "Breakfast     0\n",
              "dtype: int64"
            ]
          },
          "execution_count": 7,
          "metadata": {},
          "output_type": "execute_result"
        }
      ],
      "source": [
        "df.isnull().sum()"
      ]
    },
    {
      "cell_type": "code",
      "execution_count": null,
      "id": "47c7185c-da28-4405-bc9b-cda6756a683f",
      "metadata": {
        "id": "47c7185c-da28-4405-bc9b-cda6756a683f",
        "outputId": "1292ace0-6c10-4289-bd64-4f5e23b0a0bc"
      },
      "outputs": [
        {
          "name": "stdout",
          "output_type": "stream",
          "text": [
            "There are 4 categorical variables\n",
            "\n",
            "The categorical variables are :\n",
            "\n",
            " ['Enough', 'PhoneReach', 'PhoneTime', 'Breakfast']\n"
          ]
        }
      ],
      "source": [
        "categorical = [var for var in df.columns if df[var].dtype=='O']\n",
        "\n",
        "print('There are {} categorical variables\\n'.format(len(categorical)))\n",
        "\n",
        "print('The categorical variables are :\\n\\n', categorical)"
      ]
    },
    {
      "cell_type": "code",
      "execution_count": null,
      "id": "0c33ae3d-cefa-404a-a287-88ff8c743c11",
      "metadata": {
        "id": "0c33ae3d-cefa-404a-a287-88ff8c743c11",
        "outputId": "653f7e5b-7c6b-402b-c8d9-4b59c0612826"
      },
      "outputs": [
        {
          "name": "stdout",
          "output_type": "stream",
          "text": [
            "There are 2 numerical variables\n",
            "\n",
            "The numerical variables are : ['Hours', 'Tired']\n"
          ]
        }
      ],
      "source": [
        "numerical = [var for var in df.columns if df[var].dtype!='O']\n",
        "\n",
        "print('There are {} numerical variables\\n'.format(len(numerical)))\n",
        "\n",
        "print('The numerical variables are :', numerical)"
      ]
    },
    {
      "cell_type": "code",
      "execution_count": null,
      "id": "8e7b634a-3152-48ad-9ed5-fb64d0e31e2b",
      "metadata": {
        "id": "8e7b634a-3152-48ad-9ed5-fb64d0e31e2b",
        "outputId": "fa1279be-665d-4d75-f111-98b9f7e12e70"
      },
      "outputs": [
        {
          "name": "stdout",
          "output_type": "stream",
          "text": [
            "    Enough PhoneReach PhoneTime Breakfast\n",
            "0      Yes        Yes       Yes       Yes\n",
            "1       No        Yes       Yes        No\n",
            "2      Yes        Yes       Yes       Yes\n",
            "3       No        Yes       Yes        No\n",
            "4       No        Yes       Yes       Yes\n",
            "..     ...        ...       ...       ...\n",
            "99      No        Yes       Yes       Yes\n",
            "100     No         No       Yes       Yes\n",
            "101    Yes        Yes       Yes       Yes\n",
            "102    Yes        Yes       Yes       Yes\n",
            "103    Yes        Yes       Yes       Yes\n",
            "\n",
            "[104 rows x 4 columns]\n"
          ]
        }
      ],
      "source": [
        "df_categorical = df[['Enough', 'PhoneReach', 'PhoneTime', 'Breakfast']]                                  # Extract certain columns\n",
        "print(df_categorical)"
      ]
    },
    {
      "cell_type": "code",
      "execution_count": null,
      "id": "5da1d38b-9e87-449a-b4f0-8d0b8f83ddd0",
      "metadata": {
        "id": "5da1d38b-9e87-449a-b4f0-8d0b8f83ddd0",
        "outputId": "02c99c6e-f4ae-48a1-8d0c-36a3ba64c499"
      },
      "outputs": [
        {
          "name": "stdout",
          "output_type": "stream",
          "text": [
            "     Hours  Tired\n",
            "0      8.0      3\n",
            "1      6.0      3\n",
            "2      6.0      2\n",
            "3      7.0      4\n",
            "4      7.0      2\n",
            "..     ...    ...\n",
            "99     7.0      2\n",
            "100    7.0      3\n",
            "101    8.0      3\n",
            "102    7.0      2\n",
            "103    6.0      3\n",
            "\n",
            "[104 rows x 2 columns]\n"
          ]
        }
      ],
      "source": [
        "df_numeric = df[['Hours', 'Tired']]                                  # Extract certain columns\n",
        "print(df_numeric)"
      ]
    },
    {
      "cell_type": "code",
      "execution_count": null,
      "id": "b3996740-2837-46cc-8055-c8967806ea72",
      "metadata": {
        "id": "b3996740-2837-46cc-8055-c8967806ea72",
        "outputId": "199daf24-f638-4b9e-8e5c-5714028c7c1b"
      },
      "outputs": [
        {
          "data": {
            "text/html": [
              "<div>\n",
              "<style scoped>\n",
              "    .dataframe tbody tr th:only-of-type {\n",
              "        vertical-align: middle;\n",
              "    }\n",
              "\n",
              "    .dataframe tbody tr th {\n",
              "        vertical-align: top;\n",
              "    }\n",
              "\n",
              "    .dataframe thead th {\n",
              "        text-align: right;\n",
              "    }\n",
              "</style>\n",
              "<table border=\"1\" class=\"dataframe\">\n",
              "  <thead>\n",
              "    <tr style=\"text-align: right;\">\n",
              "      <th></th>\n",
              "      <th>Enough</th>\n",
              "      <th>PhoneReach</th>\n",
              "      <th>PhoneTime</th>\n",
              "      <th>Breakfast</th>\n",
              "    </tr>\n",
              "  </thead>\n",
              "  <tbody>\n",
              "    <tr>\n",
              "      <th>0</th>\n",
              "      <td>1</td>\n",
              "      <td>1</td>\n",
              "      <td>1</td>\n",
              "      <td>1</td>\n",
              "    </tr>\n",
              "    <tr>\n",
              "      <th>1</th>\n",
              "      <td>0</td>\n",
              "      <td>1</td>\n",
              "      <td>1</td>\n",
              "      <td>0</td>\n",
              "    </tr>\n",
              "    <tr>\n",
              "      <th>2</th>\n",
              "      <td>1</td>\n",
              "      <td>1</td>\n",
              "      <td>1</td>\n",
              "      <td>1</td>\n",
              "    </tr>\n",
              "    <tr>\n",
              "      <th>3</th>\n",
              "      <td>0</td>\n",
              "      <td>1</td>\n",
              "      <td>1</td>\n",
              "      <td>0</td>\n",
              "    </tr>\n",
              "    <tr>\n",
              "      <th>4</th>\n",
              "      <td>0</td>\n",
              "      <td>1</td>\n",
              "      <td>1</td>\n",
              "      <td>1</td>\n",
              "    </tr>\n",
              "    <tr>\n",
              "      <th>...</th>\n",
              "      <td>...</td>\n",
              "      <td>...</td>\n",
              "      <td>...</td>\n",
              "      <td>...</td>\n",
              "    </tr>\n",
              "    <tr>\n",
              "      <th>99</th>\n",
              "      <td>0</td>\n",
              "      <td>1</td>\n",
              "      <td>1</td>\n",
              "      <td>1</td>\n",
              "    </tr>\n",
              "    <tr>\n",
              "      <th>100</th>\n",
              "      <td>0</td>\n",
              "      <td>0</td>\n",
              "      <td>1</td>\n",
              "      <td>1</td>\n",
              "    </tr>\n",
              "    <tr>\n",
              "      <th>101</th>\n",
              "      <td>1</td>\n",
              "      <td>1</td>\n",
              "      <td>1</td>\n",
              "      <td>1</td>\n",
              "    </tr>\n",
              "    <tr>\n",
              "      <th>102</th>\n",
              "      <td>1</td>\n",
              "      <td>1</td>\n",
              "      <td>1</td>\n",
              "      <td>1</td>\n",
              "    </tr>\n",
              "    <tr>\n",
              "      <th>103</th>\n",
              "      <td>1</td>\n",
              "      <td>1</td>\n",
              "      <td>1</td>\n",
              "      <td>1</td>\n",
              "    </tr>\n",
              "  </tbody>\n",
              "</table>\n",
              "<p>104 rows × 4 columns</p>\n",
              "</div>"
            ],
            "text/plain": [
              "     Enough  PhoneReach  PhoneTime  Breakfast\n",
              "0         1           1          1          1\n",
              "1         0           1          1          0\n",
              "2         1           1          1          1\n",
              "3         0           1          1          0\n",
              "4         0           1          1          1\n",
              "..      ...         ...        ...        ...\n",
              "99        0           1          1          1\n",
              "100       0           0          1          1\n",
              "101       1           1          1          1\n",
              "102       1           1          1          1\n",
              "103       1           1          1          1\n",
              "\n",
              "[104 rows x 4 columns]"
            ]
          },
          "execution_count": 12,
          "metadata": {},
          "output_type": "execute_result"
        }
      ],
      "source": [
        "from sklearn import preprocessing\n",
        "le = preprocessing.LabelEncoder()\n",
        "df_categorical = df_categorical.apply(le.fit_transform)\n",
        "df_categorical"
      ]
    },
    {
      "cell_type": "code",
      "execution_count": null,
      "id": "740fdf5e-a3c0-4c92-8bb4-fb73ea77ade1",
      "metadata": {
        "id": "740fdf5e-a3c0-4c92-8bb4-fb73ea77ade1",
        "outputId": "c061e37a-c510-4800-b6a7-66071f946a43"
      },
      "outputs": [
        {
          "data": {
            "text/html": [
              "<div>\n",
              "<style scoped>\n",
              "    .dataframe tbody tr th:only-of-type {\n",
              "        vertical-align: middle;\n",
              "    }\n",
              "\n",
              "    .dataframe tbody tr th {\n",
              "        vertical-align: top;\n",
              "    }\n",
              "\n",
              "    .dataframe thead th {\n",
              "        text-align: right;\n",
              "    }\n",
              "</style>\n",
              "<table border=\"1\" class=\"dataframe\">\n",
              "  <thead>\n",
              "    <tr style=\"text-align: right;\">\n",
              "      <th></th>\n",
              "      <th>Hours</th>\n",
              "      <th>Tired</th>\n",
              "    </tr>\n",
              "  </thead>\n",
              "  <tbody>\n",
              "    <tr>\n",
              "      <th>0</th>\n",
              "      <td>0.961390</td>\n",
              "      <td>-0.076416</td>\n",
              "    </tr>\n",
              "    <tr>\n",
              "      <th>1</th>\n",
              "      <td>-0.470169</td>\n",
              "      <td>-0.076416</td>\n",
              "    </tr>\n",
              "    <tr>\n",
              "      <th>2</th>\n",
              "      <td>-0.470169</td>\n",
              "      <td>-1.069825</td>\n",
              "    </tr>\n",
              "    <tr>\n",
              "      <th>3</th>\n",
              "      <td>0.245611</td>\n",
              "      <td>0.916993</td>\n",
              "    </tr>\n",
              "    <tr>\n",
              "      <th>4</th>\n",
              "      <td>0.245611</td>\n",
              "      <td>-1.069825</td>\n",
              "    </tr>\n",
              "    <tr>\n",
              "      <th>...</th>\n",
              "      <td>...</td>\n",
              "      <td>...</td>\n",
              "    </tr>\n",
              "    <tr>\n",
              "      <th>99</th>\n",
              "      <td>0.245611</td>\n",
              "      <td>-1.069825</td>\n",
              "    </tr>\n",
              "    <tr>\n",
              "      <th>100</th>\n",
              "      <td>0.245611</td>\n",
              "      <td>-0.076416</td>\n",
              "    </tr>\n",
              "    <tr>\n",
              "      <th>101</th>\n",
              "      <td>0.961390</td>\n",
              "      <td>-0.076416</td>\n",
              "    </tr>\n",
              "    <tr>\n",
              "      <th>102</th>\n",
              "      <td>0.245611</td>\n",
              "      <td>-1.069825</td>\n",
              "    </tr>\n",
              "    <tr>\n",
              "      <th>103</th>\n",
              "      <td>-0.470169</td>\n",
              "      <td>-0.076416</td>\n",
              "    </tr>\n",
              "  </tbody>\n",
              "</table>\n",
              "<p>104 rows × 2 columns</p>\n",
              "</div>"
            ],
            "text/plain": [
              "        Hours     Tired\n",
              "0    0.961390 -0.076416\n",
              "1   -0.470169 -0.076416\n",
              "2   -0.470169 -1.069825\n",
              "3    0.245611  0.916993\n",
              "4    0.245611 -1.069825\n",
              "..        ...       ...\n",
              "99   0.245611 -1.069825\n",
              "100  0.245611 -0.076416\n",
              "101  0.961390 -0.076416\n",
              "102  0.245611 -1.069825\n",
              "103 -0.470169 -0.076416\n",
              "\n",
              "[104 rows x 2 columns]"
            ]
          },
          "execution_count": 13,
          "metadata": {},
          "output_type": "execute_result"
        }
      ],
      "source": [
        "from sklearn.preprocessing import StandardScaler\n",
        "\n",
        "scaler = StandardScaler()\n",
        "df_numeric = scaler.fit_transform(df_numeric)\n",
        "\n",
        "df_numeric = pd.DataFrame(df_numeric, columns=['Hours', 'Tired'])\n",
        "df_numeric"
      ]
    },
    {
      "cell_type": "code",
      "execution_count": null,
      "id": "53b817b3-a84a-4e76-b6ad-dac75286a9c4",
      "metadata": {
        "id": "53b817b3-a84a-4e76-b6ad-dac75286a9c4",
        "outputId": "24aaab7f-19f7-43ad-fc9a-654184abeca2"
      },
      "outputs": [
        {
          "data": {
            "text/html": [
              "<div>\n",
              "<style scoped>\n",
              "    .dataframe tbody tr th:only-of-type {\n",
              "        vertical-align: middle;\n",
              "    }\n",
              "\n",
              "    .dataframe tbody tr th {\n",
              "        vertical-align: top;\n",
              "    }\n",
              "\n",
              "    .dataframe thead th {\n",
              "        text-align: right;\n",
              "    }\n",
              "</style>\n",
              "<table border=\"1\" class=\"dataframe\">\n",
              "  <thead>\n",
              "    <tr style=\"text-align: right;\">\n",
              "      <th></th>\n",
              "      <th>Hours</th>\n",
              "      <th>Tired</th>\n",
              "      <th>Enough</th>\n",
              "      <th>PhoneReach</th>\n",
              "      <th>PhoneTime</th>\n",
              "      <th>Breakfast</th>\n",
              "    </tr>\n",
              "  </thead>\n",
              "  <tbody>\n",
              "    <tr>\n",
              "      <th>0</th>\n",
              "      <td>0.961390</td>\n",
              "      <td>-0.076416</td>\n",
              "      <td>1</td>\n",
              "      <td>1</td>\n",
              "      <td>1</td>\n",
              "      <td>1</td>\n",
              "    </tr>\n",
              "    <tr>\n",
              "      <th>1</th>\n",
              "      <td>-0.470169</td>\n",
              "      <td>-0.076416</td>\n",
              "      <td>0</td>\n",
              "      <td>1</td>\n",
              "      <td>1</td>\n",
              "      <td>0</td>\n",
              "    </tr>\n",
              "    <tr>\n",
              "      <th>2</th>\n",
              "      <td>-0.470169</td>\n",
              "      <td>-1.069825</td>\n",
              "      <td>1</td>\n",
              "      <td>1</td>\n",
              "      <td>1</td>\n",
              "      <td>1</td>\n",
              "    </tr>\n",
              "    <tr>\n",
              "      <th>3</th>\n",
              "      <td>0.245611</td>\n",
              "      <td>0.916993</td>\n",
              "      <td>0</td>\n",
              "      <td>1</td>\n",
              "      <td>1</td>\n",
              "      <td>0</td>\n",
              "    </tr>\n",
              "    <tr>\n",
              "      <th>4</th>\n",
              "      <td>0.245611</td>\n",
              "      <td>-1.069825</td>\n",
              "      <td>0</td>\n",
              "      <td>1</td>\n",
              "      <td>1</td>\n",
              "      <td>1</td>\n",
              "    </tr>\n",
              "    <tr>\n",
              "      <th>...</th>\n",
              "      <td>...</td>\n",
              "      <td>...</td>\n",
              "      <td>...</td>\n",
              "      <td>...</td>\n",
              "      <td>...</td>\n",
              "      <td>...</td>\n",
              "    </tr>\n",
              "    <tr>\n",
              "      <th>99</th>\n",
              "      <td>0.245611</td>\n",
              "      <td>-1.069825</td>\n",
              "      <td>0</td>\n",
              "      <td>1</td>\n",
              "      <td>1</td>\n",
              "      <td>1</td>\n",
              "    </tr>\n",
              "    <tr>\n",
              "      <th>100</th>\n",
              "      <td>0.245611</td>\n",
              "      <td>-0.076416</td>\n",
              "      <td>0</td>\n",
              "      <td>0</td>\n",
              "      <td>1</td>\n",
              "      <td>1</td>\n",
              "    </tr>\n",
              "    <tr>\n",
              "      <th>101</th>\n",
              "      <td>0.961390</td>\n",
              "      <td>-0.076416</td>\n",
              "      <td>1</td>\n",
              "      <td>1</td>\n",
              "      <td>1</td>\n",
              "      <td>1</td>\n",
              "    </tr>\n",
              "    <tr>\n",
              "      <th>102</th>\n",
              "      <td>0.245611</td>\n",
              "      <td>-1.069825</td>\n",
              "      <td>1</td>\n",
              "      <td>1</td>\n",
              "      <td>1</td>\n",
              "      <td>1</td>\n",
              "    </tr>\n",
              "    <tr>\n",
              "      <th>103</th>\n",
              "      <td>-0.470169</td>\n",
              "      <td>-0.076416</td>\n",
              "      <td>1</td>\n",
              "      <td>1</td>\n",
              "      <td>1</td>\n",
              "      <td>1</td>\n",
              "    </tr>\n",
              "  </tbody>\n",
              "</table>\n",
              "<p>104 rows × 6 columns</p>\n",
              "</div>"
            ],
            "text/plain": [
              "        Hours     Tired  Enough  PhoneReach  PhoneTime  Breakfast\n",
              "0    0.961390 -0.076416       1           1          1          1\n",
              "1   -0.470169 -0.076416       0           1          1          0\n",
              "2   -0.470169 -1.069825       1           1          1          1\n",
              "3    0.245611  0.916993       0           1          1          0\n",
              "4    0.245611 -1.069825       0           1          1          1\n",
              "..        ...       ...     ...         ...        ...        ...\n",
              "99   0.245611 -1.069825       0           1          1          1\n",
              "100  0.245611 -0.076416       0           0          1          1\n",
              "101  0.961390 -0.076416       1           1          1          1\n",
              "102  0.245611 -1.069825       1           1          1          1\n",
              "103 -0.470169 -0.076416       1           1          1          1\n",
              "\n",
              "[104 rows x 6 columns]"
            ]
          },
          "metadata": {},
          "output_type": "display_data"
        }
      ],
      "source": [
        "df_final = pd.concat([df_numeric, df_categorical], axis=1, join='inner')\n",
        "display(df_final)"
      ]
    },
    {
      "cell_type": "markdown",
      "id": "5ed2a0cf-e4e4-49f5-9543-09ebfd65b096",
      "metadata": {
        "id": "5ed2a0cf-e4e4-49f5-9543-09ebfd65b096"
      },
      "source": [
        "Silhouette Score"
      ]
    },
    {
      "cell_type": "code",
      "execution_count": null,
      "id": "a2828b33-3b68-43b0-a9a9-9c900c50f6d5",
      "metadata": {
        "id": "a2828b33-3b68-43b0-a9a9-9c900c50f6d5",
        "outputId": "5eaa1f39-4c9d-4fdc-841f-d1c168d882ee"
      },
      "outputs": [
        {
          "name": "stderr",
          "output_type": "stream",
          "text": [
            "/usr/local/lib/python3.8/dist-packages/sklearn/cluster/_kmeans.py:1412: FutureWarning: The default value of `n_init` will change from 10 to 'auto' in 1.4. Set the value of `n_init` explicitly to suppress the warning\n",
            "  super()._check_params_vs_input(X, default_n_init=10)\n",
            "/usr/local/lib/python3.8/dist-packages/sklearn/cluster/_kmeans.py:1412: FutureWarning: The default value of `n_init` will change from 10 to 'auto' in 1.4. Set the value of `n_init` explicitly to suppress the warning\n",
            "  super()._check_params_vs_input(X, default_n_init=10)\n",
            "/usr/local/lib/python3.8/dist-packages/sklearn/cluster/_kmeans.py:1412: FutureWarning: The default value of `n_init` will change from 10 to 'auto' in 1.4. Set the value of `n_init` explicitly to suppress the warning\n",
            "  super()._check_params_vs_input(X, default_n_init=10)\n",
            "/usr/local/lib/python3.8/dist-packages/sklearn/cluster/_kmeans.py:1412: FutureWarning: The default value of `n_init` will change from 10 to 'auto' in 1.4. Set the value of `n_init` explicitly to suppress the warning\n",
            "  super()._check_params_vs_input(X, default_n_init=10)\n",
            "/usr/local/lib/python3.8/dist-packages/sklearn/cluster/_kmeans.py:1412: FutureWarning: The default value of `n_init` will change from 10 to 'auto' in 1.4. Set the value of `n_init` explicitly to suppress the warning\n",
            "  super()._check_params_vs_input(X, default_n_init=10)\n",
            "/usr/local/lib/python3.8/dist-packages/sklearn/cluster/_kmeans.py:1412: FutureWarning: The default value of `n_init` will change from 10 to 'auto' in 1.4. Set the value of `n_init` explicitly to suppress the warning\n",
            "  super()._check_params_vs_input(X, default_n_init=10)\n"
          ]
        },
        {
          "data": {
            "image/png": "[encoded data removed]",
            "text/plain": [
              "<Figure size 432x288 with 1 Axes>"
            ]
          },
          "metadata": {
            "needs_background": "light"
          },
          "output_type": "display_data"
        }
      ],
      "source": [
        "from sklearn.cluster import KMeans\n",
        "from sklearn.metrics import silhouette_score\n",
        "\n",
        "silhouette_scores = []\n",
        "\n",
        "for n_cluster in range(2, 8):\n",
        "    silhouette_scores.append(\n",
        "        silhouette_score(df_final, KMeans(n_clusters = n_cluster).fit_predict(df_final)))\n",
        "\n",
        "k = [2, 3, 4, 5, 6,7]\n",
        "plt.bar(k, silhouette_scores)\n",
        "plt.xlabel('Number of clusters', fontsize = 10)\n",
        "plt.ylabel('Silhouette Score', fontsize = 10)\n",
        "plt.show()"
      ]
    },
    {
      "cell_type": "code",
      "execution_count": null,
      "id": "ef43d8a1-8885-4e0d-a06b-19e478ab735b",
      "metadata": {
        "id": "ef43d8a1-8885-4e0d-a06b-19e478ab735b",
        "outputId": "7b34e5b5-397f-4e0f-803e-973a55f74f2b"
      },
      "outputs": [
        {
          "data": {
            "text/html": [
              "<div>\n",
              "<style scoped>\n",
              "    .dataframe tbody tr th:only-of-type {\n",
              "        vertical-align: middle;\n",
              "    }\n",
              "\n",
              "    .dataframe tbody tr th {\n",
              "        vertical-align: top;\n",
              "    }\n",
              "\n",
              "    .dataframe thead th {\n",
              "        text-align: right;\n",
              "    }\n",
              "</style>\n",
              "<table border=\"1\" class=\"dataframe\">\n",
              "  <thead>\n",
              "    <tr style=\"text-align: right;\">\n",
              "      <th></th>\n",
              "      <th>P1</th>\n",
              "      <th>P2</th>\n",
              "    </tr>\n",
              "  </thead>\n",
              "  <tbody>\n",
              "    <tr>\n",
              "      <th>0</th>\n",
              "      <td>-0.925782</td>\n",
              "      <td>0.605597</td>\n",
              "    </tr>\n",
              "    <tr>\n",
              "      <th>1</th>\n",
              "      <td>0.436803</td>\n",
              "      <td>-0.388893</td>\n",
              "    </tr>\n",
              "  </tbody>\n",
              "</table>\n",
              "</div>"
            ],
            "text/plain": [
              "         P1        P2\n",
              "0 -0.925782  0.605597\n",
              "1  0.436803 -0.388893"
            ]
          },
          "execution_count": 17,
          "metadata": {},
          "output_type": "execute_result"
        }
      ],
      "source": [
        "from sklearn.decomposition import PCA\n",
        "\n",
        "pca = PCA(n_components = 2)\n",
        "X_principal = pca.fit_transform(df_final)\n",
        "X_principal = pd.DataFrame(X_principal)\n",
        "X_principal.columns = ['P1', 'P2']\n",
        "\n",
        "X_principal.head(2)"
      ]
    },
    {
      "cell_type": "markdown",
      "id": "3d0d0c3c-5147-4fb5-8814-e461912f7b7a",
      "metadata": {
        "id": "3d0d0c3c-5147-4fb5-8814-e461912f7b7a"
      },
      "source": [
        "Silhouette Score (After PCA)"
      ]
    },
    {
      "cell_type": "code",
      "execution_count": null,
      "id": "fd49c9d5-f63b-4c59-b544-96f24e7ccdc9",
      "metadata": {
        "id": "fd49c9d5-f63b-4c59-b544-96f24e7ccdc9",
        "outputId": "c69c9d70-22b3-423a-bc70-ad754cde6754"
      },
      "outputs": [
        {
          "name": "stderr",
          "output_type": "stream",
          "text": [
            "/usr/local/lib/python3.8/dist-packages/sklearn/cluster/_kmeans.py:1412: FutureWarning: The default value of `n_init` will change from 10 to 'auto' in 1.4. Set the value of `n_init` explicitly to suppress the warning\n",
            "  super()._check_params_vs_input(X, default_n_init=10)\n",
            "/usr/local/lib/python3.8/dist-packages/sklearn/cluster/_kmeans.py:1412: FutureWarning: The default value of `n_init` will change from 10 to 'auto' in 1.4. Set the value of `n_init` explicitly to suppress the warning\n",
            "  super()._check_params_vs_input(X, default_n_init=10)\n",
            "/usr/local/lib/python3.8/dist-packages/sklearn/cluster/_kmeans.py:1412: FutureWarning: The default value of `n_init` will change from 10 to 'auto' in 1.4. Set the value of `n_init` explicitly to suppress the warning\n",
            "  super()._check_params_vs_input(X, default_n_init=10)\n",
            "/usr/local/lib/python3.8/dist-packages/sklearn/cluster/_kmeans.py:1412: FutureWarning: The default value of `n_init` will change from 10 to 'auto' in 1.4. Set the value of `n_init` explicitly to suppress the warning\n",
            "  super()._check_params_vs_input(X, default_n_init=10)\n",
            "/usr/local/lib/python3.8/dist-packages/sklearn/cluster/_kmeans.py:1412: FutureWarning: The default value of `n_init` will change from 10 to 'auto' in 1.4. Set the value of `n_init` explicitly to suppress the warning\n",
            "  super()._check_params_vs_input(X, default_n_init=10)\n",
            "/usr/local/lib/python3.8/dist-packages/sklearn/cluster/_kmeans.py:1412: FutureWarning: The default value of `n_init` will change from 10 to 'auto' in 1.4. Set the value of `n_init` explicitly to suppress the warning\n",
            "  super()._check_params_vs_input(X, default_n_init=10)\n"
          ]
        },
        {
          "data": {
            "image/png": "[encoded data removed]",
            "text/plain": [
              "<Figure size 432x288 with 1 Axes>"
            ]
          },
          "metadata": {
            "needs_background": "light"
          },
          "output_type": "display_data"
        }
      ],
      "source": [
        "from sklearn.cluster import KMeans\n",
        "from sklearn.metrics import silhouette_score\n",
        "\n",
        "silhouette_scores = []\n",
        "\n",
        "for n_cluster in range(2, 8):\n",
        "    silhouette_scores.append(\n",
        "        silhouette_score(df_final, KMeans(n_clusters = n_cluster).fit_predict(X_principal)))\n",
        "\n",
        "# Plotting a bar graph to compare the results\n",
        "k = [2, 3, 4, 5, 6,7]\n",
        "plt.bar(k, silhouette_scores)\n",
        "plt.xlabel('Number of clusters', fontsize = 10)\n",
        "plt.ylabel('Silhouette Score', fontsize = 10)\n",
        "plt.show()"
      ]
    },
    {
      "cell_type": "code",
      "execution_count": null,
      "id": "38691f37-0bfd-4373-8226-be675ac93e7b",
      "metadata": {
        "id": "38691f37-0bfd-4373-8226-be675ac93e7b",
        "outputId": "22ef6569-b2c4-40d2-9d83-400e8c8d7b84"
      },
      "outputs": [
        {
          "name": "stderr",
          "output_type": "stream",
          "text": [
            "/usr/local/lib/python3.8/dist-packages/sklearn/cluster/_kmeans.py:1412: FutureWarning: The default value of `n_init` will change from 10 to 'auto' in 1.4. Set the value of `n_init` explicitly to suppress the warning\n",
            "  super()._check_params_vs_input(X, default_n_init=10)\n",
            "/usr/local/lib/python3.8/dist-packages/sklearn/cluster/_kmeans.py:1412: FutureWarning: The default value of `n_init` will change from 10 to 'auto' in 1.4. Set the value of `n_init` explicitly to suppress the warning\n",
            "  super()._check_params_vs_input(X, default_n_init=10)\n",
            "/usr/local/lib/python3.8/dist-packages/sklearn/cluster/_kmeans.py:1412: FutureWarning: The default value of `n_init` will change from 10 to 'auto' in 1.4. Set the value of `n_init` explicitly to suppress the warning\n",
            "  super()._check_params_vs_input(X, default_n_init=10)\n",
            "/usr/local/lib/python3.8/dist-packages/sklearn/cluster/_kmeans.py:1412: FutureWarning: The default value of `n_init` will change from 10 to 'auto' in 1.4. Set the value of `n_init` explicitly to suppress the warning\n",
            "  super()._check_params_vs_input(X, default_n_init=10)\n",
            "/usr/local/lib/python3.8/dist-packages/sklearn/cluster/_kmeans.py:1412: FutureWarning: The default value of `n_init` will change from 10 to 'auto' in 1.4. Set the value of `n_init` explicitly to suppress the warning\n",
            "  super()._check_params_vs_input(X, default_n_init=10)\n",
            "/usr/local/lib/python3.8/dist-packages/sklearn/cluster/_kmeans.py:1412: FutureWarning: The default value of `n_init` will change from 10 to 'auto' in 1.4. Set the value of `n_init` explicitly to suppress the warning\n",
            "  super()._check_params_vs_input(X, default_n_init=10)\n",
            "/usr/local/lib/python3.8/dist-packages/sklearn/cluster/_kmeans.py:1412: FutureWarning: The default value of `n_init` will change from 10 to 'auto' in 1.4. Set the value of `n_init` explicitly to suppress the warning\n",
            "  super()._check_params_vs_input(X, default_n_init=10)\n",
            "/usr/local/lib/python3.8/dist-packages/sklearn/cluster/_kmeans.py:1412: FutureWarning: The default value of `n_init` will change from 10 to 'auto' in 1.4. Set the value of `n_init` explicitly to suppress the warning\n",
            "  super()._check_params_vs_input(X, default_n_init=10)\n",
            "/usr/local/lib/python3.8/dist-packages/sklearn/cluster/_kmeans.py:1412: FutureWarning: The default value of `n_init` will change from 10 to 'auto' in 1.4. Set the value of `n_init` explicitly to suppress the warning\n",
            "  super()._check_params_vs_input(X, default_n_init=10)\n",
            "/usr/local/lib/python3.8/dist-packages/sklearn/cluster/_kmeans.py:1412: FutureWarning: The default value of `n_init` will change from 10 to 'auto' in 1.4. Set the value of `n_init` explicitly to suppress the warning\n",
            "  super()._check_params_vs_input(X, default_n_init=10)\n"
          ]
        },
        {
          "data": {
            "image/png": "[encoded data removed]",
            "text/plain": [
              "<Figure size 864x360 with 1 Axes>"
            ]
          },
          "metadata": {
            "needs_background": "light"
          },
          "output_type": "display_data"
        }
      ],
      "source": [
        "def elbowMethod(X, k_min=1, k_max=10, save=False):\n",
        "    K_range = range(k_min,k_max+1)\n",
        "\n",
        "    result = []\n",
        "    for k in K_range:\n",
        "        model = KMeans(n_clusters = k, random_state=20)\n",
        "        model.fit(X)\n",
        "        result.append(model.inertia_)\n",
        "\n",
        "    fig, ax = plt.subplots(figsize=(12,5))\n",
        "\n",
        "    ax.plot(K_range, result, marker='')\n",
        "\n",
        "    sns.set_style(\"white\")\n",
        "    plt.xticks(K_range)\n",
        "    plt.title('Elbow Method\\n', fontsize=14)\n",
        "    plt.xlabel('\\nn-Cluster', fontsize=12)\n",
        "    plt.ylabel('WCSS\\n', fontsize=12)\n",
        "\n",
        "    if save==True:\n",
        "        plt.savefig('elbowMethod.png', dpi=200)\n",
        "\n",
        "    plt.show()\n",
        "\n",
        "elbowMethod(df_final)"
      ]
    },
    {
      "cell_type": "code",
      "execution_count": null,
      "id": "464fd317-cb95-4a16-a651-e3c0d01abc38",
      "metadata": {
        "id": "464fd317-cb95-4a16-a651-e3c0d01abc38",
        "outputId": "4988af7f-be8e-4e33-f7a3-abcb1d424673"
      },
      "outputs": [
        {
          "name": "stderr",
          "output_type": "stream",
          "text": [
            "/usr/local/lib/python3.8/dist-packages/sklearn/cluster/_kmeans.py:1412: FutureWarning: The default value of `n_init` will change from 10 to 'auto' in 1.4. Set the value of `n_init` explicitly to suppress the warning\n",
            "  super()._check_params_vs_input(X, default_n_init=10)\n"
          ]
        },
        {
          "data": {
            "text/html": [
              "<div>\n",
              "<style scoped>\n",
              "    .dataframe tbody tr th:only-of-type {\n",
              "        vertical-align: middle;\n",
              "    }\n",
              "\n",
              "    .dataframe tbody tr th {\n",
              "        vertical-align: top;\n",
              "    }\n",
              "\n",
              "    .dataframe thead th {\n",
              "        text-align: right;\n",
              "    }\n",
              "</style>\n",
              "<table border=\"1\" class=\"dataframe\">\n",
              "  <thead>\n",
              "    <tr style=\"text-align: right;\">\n",
              "      <th></th>\n",
              "      <th>Hours</th>\n",
              "      <th>Tired</th>\n",
              "      <th>Enough</th>\n",
              "      <th>PhoneReach</th>\n",
              "      <th>PhoneTime</th>\n",
              "      <th>Breakfast</th>\n",
              "      <th>cluster_lifehabit</th>\n",
              "    </tr>\n",
              "  </thead>\n",
              "  <tbody>\n",
              "    <tr>\n",
              "      <th>0</th>\n",
              "      <td>0.961390</td>\n",
              "      <td>-0.076416</td>\n",
              "      <td>1</td>\n",
              "      <td>1</td>\n",
              "      <td>1</td>\n",
              "      <td>1</td>\n",
              "      <td>0</td>\n",
              "    </tr>\n",
              "    <tr>\n",
              "      <th>1</th>\n",
              "      <td>-0.470169</td>\n",
              "      <td>-0.076416</td>\n",
              "      <td>0</td>\n",
              "      <td>1</td>\n",
              "      <td>1</td>\n",
              "      <td>0</td>\n",
              "      <td>1</td>\n",
              "    </tr>\n",
              "    <tr>\n",
              "      <th>2</th>\n",
              "      <td>-0.470169</td>\n",
              "      <td>-1.069825</td>\n",
              "      <td>1</td>\n",
              "      <td>1</td>\n",
              "      <td>1</td>\n",
              "      <td>1</td>\n",
              "      <td>1</td>\n",
              "    </tr>\n",
              "    <tr>\n",
              "      <th>3</th>\n",
              "      <td>0.245611</td>\n",
              "      <td>0.916993</td>\n",
              "      <td>0</td>\n",
              "      <td>1</td>\n",
              "      <td>1</td>\n",
              "      <td>0</td>\n",
              "      <td>2</td>\n",
              "    </tr>\n",
              "    <tr>\n",
              "      <th>4</th>\n",
              "      <td>0.245611</td>\n",
              "      <td>-1.069825</td>\n",
              "      <td>0</td>\n",
              "      <td>1</td>\n",
              "      <td>1</td>\n",
              "      <td>1</td>\n",
              "      <td>0</td>\n",
              "    </tr>\n",
              "    <tr>\n",
              "      <th>...</th>\n",
              "      <td>...</td>\n",
              "      <td>...</td>\n",
              "      <td>...</td>\n",
              "      <td>...</td>\n",
              "      <td>...</td>\n",
              "      <td>...</td>\n",
              "      <td>...</td>\n",
              "    </tr>\n",
              "    <tr>\n",
              "      <th>99</th>\n",
              "      <td>0.245611</td>\n",
              "      <td>-1.069825</td>\n",
              "      <td>0</td>\n",
              "      <td>1</td>\n",
              "      <td>1</td>\n",
              "      <td>1</td>\n",
              "      <td>0</td>\n",
              "    </tr>\n",
              "    <tr>\n",
              "      <th>100</th>\n",
              "      <td>0.245611</td>\n",
              "      <td>-0.076416</td>\n",
              "      <td>0</td>\n",
              "      <td>0</td>\n",
              "      <td>1</td>\n",
              "      <td>1</td>\n",
              "      <td>1</td>\n",
              "    </tr>\n",
              "    <tr>\n",
              "      <th>101</th>\n",
              "      <td>0.961390</td>\n",
              "      <td>-0.076416</td>\n",
              "      <td>1</td>\n",
              "      <td>1</td>\n",
              "      <td>1</td>\n",
              "      <td>1</td>\n",
              "      <td>0</td>\n",
              "    </tr>\n",
              "    <tr>\n",
              "      <th>102</th>\n",
              "      <td>0.245611</td>\n",
              "      <td>-1.069825</td>\n",
              "      <td>1</td>\n",
              "      <td>1</td>\n",
              "      <td>1</td>\n",
              "      <td>1</td>\n",
              "      <td>0</td>\n",
              "    </tr>\n",
              "    <tr>\n",
              "      <th>103</th>\n",
              "      <td>-0.470169</td>\n",
              "      <td>-0.076416</td>\n",
              "      <td>1</td>\n",
              "      <td>1</td>\n",
              "      <td>1</td>\n",
              "      <td>1</td>\n",
              "      <td>1</td>\n",
              "    </tr>\n",
              "  </tbody>\n",
              "</table>\n",
              "<p>104 rows × 7 columns</p>\n",
              "</div>"
            ],
            "text/plain": [
              "        Hours     Tired  Enough  PhoneReach  PhoneTime  Breakfast  \\\n",
              "0    0.961390 -0.076416       1           1          1          1   \n",
              "1   -0.470169 -0.076416       0           1          1          0   \n",
              "2   -0.470169 -1.069825       1           1          1          1   \n",
              "3    0.245611  0.916993       0           1          1          0   \n",
              "4    0.245611 -1.069825       0           1          1          1   \n",
              "..        ...       ...     ...         ...        ...        ...   \n",
              "99   0.245611 -1.069825       0           1          1          1   \n",
              "100  0.245611 -0.076416       0           0          1          1   \n",
              "101  0.961390 -0.076416       1           1          1          1   \n",
              "102  0.245611 -1.069825       1           1          1          1   \n",
              "103 -0.470169 -0.076416       1           1          1          1   \n",
              "\n",
              "     cluster_lifehabit  \n",
              "0                    0  \n",
              "1                    1  \n",
              "2                    1  \n",
              "3                    2  \n",
              "4                    0  \n",
              "..                 ...  \n",
              "99                   0  \n",
              "100                  1  \n",
              "101                  0  \n",
              "102                  0  \n",
              "103                  1  \n",
              "\n",
              "[104 rows x 7 columns]"
            ]
          },
          "execution_count": 20,
          "metadata": {},
          "output_type": "execute_result"
        }
      ],
      "source": [
        "k2 = KMeans(n_clusters=4, random_state=9)\n",
        "k2.fit(X_principal)\n",
        "\n",
        "k_df_final=pd.DataFrame(df_final)\n",
        "k_df_final['cluster_lifehabit'] = k2.labels_\n",
        "k_df_final"
      ]
    },
    {
      "cell_type": "code",
      "execution_count": null,
      "id": "810bb5ab-1d2c-4de2-8e86-39d78185cbdd",
      "metadata": {
        "id": "810bb5ab-1d2c-4de2-8e86-39d78185cbdd",
        "outputId": "b8b2233d-45d5-41ce-b1ec-4e32a0bfe6f5"
      },
      "outputs": [
        {
          "name": "stderr",
          "output_type": "stream",
          "text": [
            "/usr/local/lib/python3.8/dist-packages/sklearn/cluster/_kmeans.py:1412: FutureWarning: The default value of `n_init` will change from 10 to 'auto' in 1.4. Set the value of `n_init` explicitly to suppress the warning\n",
            "  super()._check_params_vs_input(X, default_n_init=10)\n"
          ]
        },
        {
          "data": {
            "image/png": "[encoded data removed]",
            "text/plain": [
              "<Figure size 432x288 with 1 Axes>"
            ]
          },
          "metadata": {},
          "output_type": "display_data"
        }
      ],
      "source": [
        "plt.scatter(X_principal['P1'], X_principal['P2'],\n",
        "           c = KMeans(n_clusters = 4).fit_predict(X_principal), cmap =plt.cm.winter)\n",
        "plt.show()"
      ]
    },
    {
      "cell_type": "code",
      "execution_count": null,
      "id": "0ec493e3-9300-46f0-99e3-f4fee52eefa3",
      "metadata": {
        "id": "0ec493e3-9300-46f0-99e3-f4fee52eefa3",
        "outputId": "32af7361-4cef-40af-ad45-f63e1ee58728"
      },
      "outputs": [
        {
          "data": {
            "text/html": [
              "<div>\n",
              "<style scoped>\n",
              "    .dataframe tbody tr th:only-of-type {\n",
              "        vertical-align: middle;\n",
              "    }\n",
              "\n",
              "    .dataframe tbody tr th {\n",
              "        vertical-align: top;\n",
              "    }\n",
              "\n",
              "    .dataframe thead th {\n",
              "        text-align: right;\n",
              "    }\n",
              "</style>\n",
              "<table border=\"1\" class=\"dataframe\">\n",
              "  <thead>\n",
              "    <tr style=\"text-align: right;\">\n",
              "      <th></th>\n",
              "      <th>P1</th>\n",
              "      <th>P2</th>\n",
              "    </tr>\n",
              "  </thead>\n",
              "  <tbody>\n",
              "    <tr>\n",
              "      <th>0</th>\n",
              "      <td>-0.925782</td>\n",
              "      <td>0.605597</td>\n",
              "    </tr>\n",
              "    <tr>\n",
              "      <th>1</th>\n",
              "      <td>0.436803</td>\n",
              "      <td>-0.388893</td>\n",
              "    </tr>\n",
              "    <tr>\n",
              "      <th>2</th>\n",
              "      <td>-0.641273</td>\n",
              "      <td>-1.106422</td>\n",
              "    </tr>\n",
              "    <tr>\n",
              "      <th>3</th>\n",
              "      <td>0.632607</td>\n",
              "      <td>0.813529</td>\n",
              "    </tr>\n",
              "    <tr>\n",
              "      <th>4</th>\n",
              "      <td>-0.876763</td>\n",
              "      <td>-0.579849</td>\n",
              "    </tr>\n",
              "    <tr>\n",
              "      <th>...</th>\n",
              "      <td>...</td>\n",
              "      <td>...</td>\n",
              "    </tr>\n",
              "    <tr>\n",
              "      <th>99</th>\n",
              "      <td>-0.876763</td>\n",
              "      <td>-0.579849</td>\n",
              "    </tr>\n",
              "    <tr>\n",
              "      <th>100</th>\n",
              "      <td>-0.205884</td>\n",
              "      <td>0.178600</td>\n",
              "    </tr>\n",
              "    <tr>\n",
              "      <th>101</th>\n",
              "      <td>-0.925782</td>\n",
              "      <td>0.605597</td>\n",
              "    </tr>\n",
              "    <tr>\n",
              "      <th>102</th>\n",
              "      <td>-1.121587</td>\n",
              "      <td>-0.596825</td>\n",
              "    </tr>\n",
              "    <tr>\n",
              "      <th>103</th>\n",
              "      <td>0.034844</td>\n",
              "      <td>-0.413597</td>\n",
              "    </tr>\n",
              "  </tbody>\n",
              "</table>\n",
              "<p>104 rows × 2 columns</p>\n",
              "</div>"
            ],
            "text/plain": [
              "           P1        P2\n",
              "0   -0.925782  0.605597\n",
              "1    0.436803 -0.388893\n",
              "2   -0.641273 -1.106422\n",
              "3    0.632607  0.813529\n",
              "4   -0.876763 -0.579849\n",
              "..        ...       ...\n",
              "99  -0.876763 -0.579849\n",
              "100 -0.205884  0.178600\n",
              "101 -0.925782  0.605597\n",
              "102 -1.121587 -0.596825\n",
              "103  0.034844 -0.413597\n",
              "\n",
              "[104 rows x 2 columns]"
            ]
          },
          "execution_count": 22,
          "metadata": {},
          "output_type": "execute_result"
        }
      ],
      "source": [
        "X_principal"
      ]
    },
    {
      "cell_type": "code",
      "execution_count": null,
      "id": "136d40c9-bb46-46ae-8188-24d899f2888a",
      "metadata": {
        "id": "136d40c9-bb46-46ae-8188-24d899f2888a",
        "outputId": "dda8fd1e-f2ba-4d85-f637-c1f2a6746089"
      },
      "outputs": [
        {
          "data": {
            "text/html": [
              "<div>\n",
              "<style scoped>\n",
              "    .dataframe tbody tr th:only-of-type {\n",
              "        vertical-align: middle;\n",
              "    }\n",
              "\n",
              "    .dataframe tbody tr th {\n",
              "        vertical-align: top;\n",
              "    }\n",
              "\n",
              "    .dataframe thead th {\n",
              "        text-align: right;\n",
              "    }\n",
              "</style>\n",
              "<table border=\"1\" class=\"dataframe\">\n",
              "  <thead>\n",
              "    <tr style=\"text-align: right;\">\n",
              "      <th></th>\n",
              "      <th>Enough</th>\n",
              "      <th>Hours</th>\n",
              "      <th>PhoneReach</th>\n",
              "      <th>PhoneTime</th>\n",
              "      <th>Tired</th>\n",
              "      <th>Breakfast</th>\n",
              "      <th>cluster_lifehabit</th>\n",
              "    </tr>\n",
              "  </thead>\n",
              "  <tbody>\n",
              "    <tr>\n",
              "      <th>0</th>\n",
              "      <td>Yes</td>\n",
              "      <td>8.0</td>\n",
              "      <td>Yes</td>\n",
              "      <td>Yes</td>\n",
              "      <td>3</td>\n",
              "      <td>Yes</td>\n",
              "      <td>0</td>\n",
              "    </tr>\n",
              "    <tr>\n",
              "      <th>1</th>\n",
              "      <td>No</td>\n",
              "      <td>6.0</td>\n",
              "      <td>Yes</td>\n",
              "      <td>Yes</td>\n",
              "      <td>3</td>\n",
              "      <td>No</td>\n",
              "      <td>1</td>\n",
              "    </tr>\n",
              "    <tr>\n",
              "      <th>2</th>\n",
              "      <td>Yes</td>\n",
              "      <td>6.0</td>\n",
              "      <td>Yes</td>\n",
              "      <td>Yes</td>\n",
              "      <td>2</td>\n",
              "      <td>Yes</td>\n",
              "      <td>1</td>\n",
              "    </tr>\n",
              "    <tr>\n",
              "      <th>3</th>\n",
              "      <td>No</td>\n",
              "      <td>7.0</td>\n",
              "      <td>Yes</td>\n",
              "      <td>Yes</td>\n",
              "      <td>4</td>\n",
              "      <td>No</td>\n",
              "      <td>2</td>\n",
              "    </tr>\n",
              "    <tr>\n",
              "      <th>4</th>\n",
              "      <td>No</td>\n",
              "      <td>7.0</td>\n",
              "      <td>Yes</td>\n",
              "      <td>Yes</td>\n",
              "      <td>2</td>\n",
              "      <td>Yes</td>\n",
              "      <td>0</td>\n",
              "    </tr>\n",
              "    <tr>\n",
              "      <th>...</th>\n",
              "      <td>...</td>\n",
              "      <td>...</td>\n",
              "      <td>...</td>\n",
              "      <td>...</td>\n",
              "      <td>...</td>\n",
              "      <td>...</td>\n",
              "      <td>...</td>\n",
              "    </tr>\n",
              "    <tr>\n",
              "      <th>99</th>\n",
              "      <td>No</td>\n",
              "      <td>7.0</td>\n",
              "      <td>Yes</td>\n",
              "      <td>Yes</td>\n",
              "      <td>2</td>\n",
              "      <td>Yes</td>\n",
              "      <td>0</td>\n",
              "    </tr>\n",
              "    <tr>\n",
              "      <th>100</th>\n",
              "      <td>No</td>\n",
              "      <td>7.0</td>\n",
              "      <td>No</td>\n",
              "      <td>Yes</td>\n",
              "      <td>3</td>\n",
              "      <td>Yes</td>\n",
              "      <td>1</td>\n",
              "    </tr>\n",
              "    <tr>\n",
              "      <th>101</th>\n",
              "      <td>Yes</td>\n",
              "      <td>8.0</td>\n",
              "      <td>Yes</td>\n",
              "      <td>Yes</td>\n",
              "      <td>3</td>\n",
              "      <td>Yes</td>\n",
              "      <td>0</td>\n",
              "    </tr>\n",
              "    <tr>\n",
              "      <th>102</th>\n",
              "      <td>Yes</td>\n",
              "      <td>7.0</td>\n",
              "      <td>Yes</td>\n",
              "      <td>Yes</td>\n",
              "      <td>2</td>\n",
              "      <td>Yes</td>\n",
              "      <td>0</td>\n",
              "    </tr>\n",
              "    <tr>\n",
              "      <th>103</th>\n",
              "      <td>Yes</td>\n",
              "      <td>6.0</td>\n",
              "      <td>Yes</td>\n",
              "      <td>Yes</td>\n",
              "      <td>3</td>\n",
              "      <td>Yes</td>\n",
              "      <td>1</td>\n",
              "    </tr>\n",
              "  </tbody>\n",
              "</table>\n",
              "<p>104 rows × 7 columns</p>\n",
              "</div>"
            ],
            "text/plain": [
              "    Enough  Hours PhoneReach PhoneTime  Tired Breakfast  cluster_lifehabit\n",
              "0      Yes    8.0        Yes       Yes      3       Yes                  0\n",
              "1       No    6.0        Yes       Yes      3        No                  1\n",
              "2      Yes    6.0        Yes       Yes      2       Yes                  1\n",
              "3       No    7.0        Yes       Yes      4        No                  2\n",
              "4       No    7.0        Yes       Yes      2       Yes                  0\n",
              "..     ...    ...        ...       ...    ...       ...                ...\n",
              "99      No    7.0        Yes       Yes      2       Yes                  0\n",
              "100     No    7.0         No       Yes      3       Yes                  1\n",
              "101    Yes    8.0        Yes       Yes      3       Yes                  0\n",
              "102    Yes    7.0        Yes       Yes      2       Yes                  0\n",
              "103    Yes    6.0        Yes       Yes      3       Yes                  1\n",
              "\n",
              "[104 rows x 7 columns]"
            ]
          },
          "execution_count": 39,
          "metadata": {},
          "output_type": "execute_result"
        }
      ],
      "source": [
        "df['cluster_lifehabit'] = k2.labels_\n",
        "df"
      ]
    },
    {
      "cell_type": "code",
      "execution_count": null,
      "id": "988bb0d8-af6f-4b8f-937d-f67ed765a5ac",
      "metadata": {
        "id": "988bb0d8-af6f-4b8f-937d-f67ed765a5ac",
        "outputId": "cc60b709-7ca4-4fa6-a096-8d5173ebe3d9"
      },
      "outputs": [
        {
          "data": {
            "text/html": [
              "<div>\n",
              "<style scoped>\n",
              "    .dataframe tbody tr th:only-of-type {\n",
              "        vertical-align: middle;\n",
              "    }\n",
              "\n",
              "    .dataframe tbody tr th {\n",
              "        vertical-align: top;\n",
              "    }\n",
              "\n",
              "    .dataframe thead th {\n",
              "        text-align: right;\n",
              "    }\n",
              "</style>\n",
              "<table border=\"1\" class=\"dataframe\">\n",
              "  <thead>\n",
              "    <tr style=\"text-align: right;\">\n",
              "      <th></th>\n",
              "      <th>Enough</th>\n",
              "      <th>Hours</th>\n",
              "      <th>PhoneReach</th>\n",
              "      <th>PhoneTime</th>\n",
              "      <th>Tired</th>\n",
              "      <th>Breakfast</th>\n",
              "      <th>cluster_lifehabit</th>\n",
              "    </tr>\n",
              "  </thead>\n",
              "  <tbody>\n",
              "    <tr>\n",
              "      <th>0</th>\n",
              "      <td>Yes</td>\n",
              "      <td>8.0</td>\n",
              "      <td>Yes</td>\n",
              "      <td>Yes</td>\n",
              "      <td>3</td>\n",
              "      <td>Yes</td>\n",
              "      <td>0</td>\n",
              "    </tr>\n",
              "    <tr>\n",
              "      <th>1</th>\n",
              "      <td>No</td>\n",
              "      <td>6.0</td>\n",
              "      <td>Yes</td>\n",
              "      <td>Yes</td>\n",
              "      <td>3</td>\n",
              "      <td>No</td>\n",
              "      <td>1</td>\n",
              "    </tr>\n",
              "    <tr>\n",
              "      <th>2</th>\n",
              "      <td>Yes</td>\n",
              "      <td>6.0</td>\n",
              "      <td>Yes</td>\n",
              "      <td>Yes</td>\n",
              "      <td>2</td>\n",
              "      <td>Yes</td>\n",
              "      <td>1</td>\n",
              "    </tr>\n",
              "    <tr>\n",
              "      <th>3</th>\n",
              "      <td>No</td>\n",
              "      <td>7.0</td>\n",
              "      <td>Yes</td>\n",
              "      <td>Yes</td>\n",
              "      <td>4</td>\n",
              "      <td>No</td>\n",
              "      <td>2</td>\n",
              "    </tr>\n",
              "    <tr>\n",
              "      <th>4</th>\n",
              "      <td>No</td>\n",
              "      <td>7.0</td>\n",
              "      <td>Yes</td>\n",
              "      <td>Yes</td>\n",
              "      <td>2</td>\n",
              "      <td>Yes</td>\n",
              "      <td>0</td>\n",
              "    </tr>\n",
              "    <tr>\n",
              "      <th>...</th>\n",
              "      <td>...</td>\n",
              "      <td>...</td>\n",
              "      <td>...</td>\n",
              "      <td>...</td>\n",
              "      <td>...</td>\n",
              "      <td>...</td>\n",
              "      <td>...</td>\n",
              "    </tr>\n",
              "    <tr>\n",
              "      <th>99</th>\n",
              "      <td>No</td>\n",
              "      <td>7.0</td>\n",
              "      <td>Yes</td>\n",
              "      <td>Yes</td>\n",
              "      <td>2</td>\n",
              "      <td>Yes</td>\n",
              "      <td>0</td>\n",
              "    </tr>\n",
              "    <tr>\n",
              "      <th>100</th>\n",
              "      <td>No</td>\n",
              "      <td>7.0</td>\n",
              "      <td>No</td>\n",
              "      <td>Yes</td>\n",
              "      <td>3</td>\n",
              "      <td>Yes</td>\n",
              "      <td>1</td>\n",
              "    </tr>\n",
              "    <tr>\n",
              "      <th>101</th>\n",
              "      <td>Yes</td>\n",
              "      <td>8.0</td>\n",
              "      <td>Yes</td>\n",
              "      <td>Yes</td>\n",
              "      <td>3</td>\n",
              "      <td>Yes</td>\n",
              "      <td>0</td>\n",
              "    </tr>\n",
              "    <tr>\n",
              "      <th>102</th>\n",
              "      <td>Yes</td>\n",
              "      <td>7.0</td>\n",
              "      <td>Yes</td>\n",
              "      <td>Yes</td>\n",
              "      <td>2</td>\n",
              "      <td>Yes</td>\n",
              "      <td>0</td>\n",
              "    </tr>\n",
              "    <tr>\n",
              "      <th>103</th>\n",
              "      <td>Yes</td>\n",
              "      <td>6.0</td>\n",
              "      <td>Yes</td>\n",
              "      <td>Yes</td>\n",
              "      <td>3</td>\n",
              "      <td>Yes</td>\n",
              "      <td>1</td>\n",
              "    </tr>\n",
              "  </tbody>\n",
              "</table>\n",
              "<p>104 rows × 7 columns</p>\n",
              "</div>"
            ],
            "text/plain": [
              "    Enough  Hours PhoneReach PhoneTime  Tired Breakfast cluster_lifehabit\n",
              "0      Yes    8.0        Yes       Yes      3       Yes                 0\n",
              "1       No    6.0        Yes       Yes      3        No                 1\n",
              "2      Yes    6.0        Yes       Yes      2       Yes                 1\n",
              "3       No    7.0        Yes       Yes      4        No                 2\n",
              "4       No    7.0        Yes       Yes      2       Yes                 0\n",
              "..     ...    ...        ...       ...    ...       ...               ...\n",
              "99      No    7.0        Yes       Yes      2       Yes                 0\n",
              "100     No    7.0         No       Yes      3       Yes                 1\n",
              "101    Yes    8.0        Yes       Yes      3       Yes                 0\n",
              "102    Yes    7.0        Yes       Yes      2       Yes                 0\n",
              "103    Yes    6.0        Yes       Yes      3       Yes                 1\n",
              "\n",
              "[104 rows x 7 columns]"
            ]
          },
          "execution_count": 40,
          "metadata": {},
          "output_type": "execute_result"
        }
      ],
      "source": [
        "df.cluster_lifehabit = df.cluster_lifehabit.astype(str)\n",
        "\n",
        "df"
      ]
    },
    {
      "cell_type": "code",
      "execution_count": null,
      "id": "f822cd36-950f-483f-b59f-d95d308eced5",
      "metadata": {
        "id": "f822cd36-950f-483f-b59f-d95d308eced5",
        "outputId": "da257590-ad90-4925-e166-d241beb27b09"
      },
      "outputs": [
        {
          "data": {
            "image/png": "[encoded data removed]",
            "text/plain": [
              "<Figure size 864x216 with 4 Axes>"
            ]
          },
          "metadata": {},
          "output_type": "display_data"
        },
        {
          "data": {
            "image/png": "[encoded data removed]",
            "text/plain": [
              "<Figure size 864x216 with 4 Axes>"
            ]
          },
          "metadata": {},
          "output_type": "display_data"
        },
        {
          "data": {
            "image/png": "[encoded data removed]",
            "text/plain": [
              "<Figure size 864x216 with 4 Axes>"
            ]
          },
          "metadata": {},
          "output_type": "display_data"
        },
        {
          "data": {
            "image/png": "[encoded data removed]",
            "text/plain": [
              "<Figure size 864x216 with 4 Axes>"
            ]
          },
          "metadata": {},
          "output_type": "display_data"
        },
        {
          "data": {
            "image/png": "[encoded data removed]",
            "text/plain": [
              "<Figure size 864x216 with 4 Axes>"
            ]
          },
          "metadata": {},
          "output_type": "display_data"
        },
        {
          "data": {
            "image/png": "[encoded data removed]",
            "text/plain": [
              "<Figure size 864x216 with 4 Axes>"
            ]
          },
          "metadata": {},
          "output_type": "display_data"
        },
        {
          "data": {
            "image/png": "[encoded data removed]",
            "text/plain": [
              "<Figure size 864x216 with 4 Axes>"
            ]
          },
          "metadata": {},
          "output_type": "display_data"
        }
      ],
      "source": [
        "for c in df:\n",
        "    grid= sns.FacetGrid(df, col='cluster_lifehabit')\n",
        "    grid.map(plt.hist, c)"
      ]
    }
  ],
  "metadata": {
    "kernelspec": {
      "display_name": "Python 3",
      "language": "python",
      "name": "python3"
    },
    "language_info": {
      "codemirror_mode": {
        "name": "ipython",
        "version": 3
      },
      "file_extension": ".py",
      "mimetype": "text/x-python",
      "name": "python",
      "nbconvert_exporter": "python",
      "pygments_lexer": "ipython3",
      "version": "3.8.10"
    },
    "colab": {
      "provenance": []
    }
  },
  "nbformat": 4,
  "nbformat_minor": 5
}